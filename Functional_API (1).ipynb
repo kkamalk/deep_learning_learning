{
 "cells": [
  {
   "cell_type": "code",
   "execution_count": null,
   "id": "f700c66f",
   "metadata": {},
   "outputs": [],
   "source": [
    "# Setup input shape and base model, freezing the base model layers\n",
    "input_shape = (224, 224, 3)\n",
    "\n",
    "base_model = tf.keras.applications.EfficientNetB0(include_top=False)\n",
    "base_model.trainable = False\n",
    "\n",
    "# Set random seed\n",
    "tf.random.set_seed(42)\n",
    "\n",
    "# Create input layer\n",
    "inputs = tf.keras.layers.Input(shape=input_shape, name=\"input_layer\")\n",
    "\n",
    "# Add in data augmentation Sequential model as a layer\n",
    "x = data_augmentation(inputs)\n",
    "\n",
    "# Give base_model inputs\n",
    "x = base_model(x)\n",
    "\n",
    "# Pool output features of base model\n",
    "x = tf.keras.layers.GlobalAveragePooling2D()(x)\n",
    "\n",
    "# Put a dense layer on as the output\n",
    "output = Dense(10, activation=\"softmax\")(x)\n",
    "\n",
    "# Make a model with inputs and outputs\n",
    "model_1 = tf.keras.Model(inputs, output)\n",
    "\n",
    "# Compile the model\n",
    "model_1.compile(loss=\"categorical_crossentropy\",\n",
    "              optimizer=tf.keras.optimizers.Adam(),\n",
    "              metrics=[\"accuracy\"])\n",
    "\n",
    "# Fit the model\n",
    "history_1_percent = model_1.fit(train_data_1_percent,\n",
    "                    epochs=5,\n",
    "                    steps_per_epoch=len(train_data_1_percent),\n",
    "                    validation_data=test_data,\n",
    "                    validation_steps=len(test_data))"
   ]
  }
 ],
 "metadata": {
  "kernelspec": {
   "display_name": "Python 3 (ipykernel)",
   "language": "python",
   "name": "python3"
  },
  "language_info": {
   "codemirror_mode": {
    "name": "ipython",
    "version": 3
   },
   "file_extension": ".py",
   "mimetype": "text/x-python",
   "name": "python",
   "nbconvert_exporter": "python",
   "pygments_lexer": "ipython3",
   "version": "3.9.7"
  }
 },
 "nbformat": 4,
 "nbformat_minor": 5
}
