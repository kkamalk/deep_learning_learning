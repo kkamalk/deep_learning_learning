{
 "cells": [
  {
   "cell_type": "markdown",
   "id": "815f38f9",
   "metadata": {},
   "source": [
    "## implement linear regression with one variable\n"
   ]
  },
  {
   "cell_type": "code",
   "execution_count": 1,
   "id": "6708b046",
   "metadata": {},
   "outputs": [],
   "source": [
    "import numpy as np\n",
    "import matplotlib.pyplot as plt\n",
    "import math\n",
    "%matplotlib inline\n",
    "from pylab import *\n",
    "from scipy import stats"
   ]
  },
  {
   "cell_type": "code",
   "execution_count": 2,
   "id": "cdb39718",
   "metadata": {},
   "outputs": [
    {
     "name": "stdout",
     "output_type": "stream",
     "text": [
      "[2. 4.]\n",
      "[300. 600.]\n"
     ]
    }
   ],
   "source": [
    "# x is the input feature\n",
    "# y is the target \n",
    "# There is only 1 input feature. There are 2 samples\n",
    "x = np.array([2.0, 4.0])\n",
    "y = np.array([300.0, 600.0])\n",
    "print(x)\n",
    "print(y)"
   ]
  },
  {
   "cell_type": "code",
   "execution_count": 3,
   "id": "4c60c925",
   "metadata": {},
   "outputs": [],
   "source": [
    "#Number of training examples  = m\n",
    "#x.shape returns a python tuple with the dimensions of the input data \n",
    "#x.shape[0] gives the number of examples\n",
    "#x.shape[1] gives the number of input features "
   ]
  },
  {
   "cell_type": "code",
   "execution_count": 4,
   "id": "432417c8",
   "metadata": {},
   "outputs": [
    {
     "name": "stdout",
     "output_type": "stream",
     "text": [
      "(2,)\n",
      "Number of training examples is: 2\n"
     ]
    }
   ],
   "source": [
    "# m is the number of training examples\n",
    "print(x.shape)\n",
    "m = x.shape[0]\n",
    "print(f\"Number of training examples is: {m}\")"
   ]
  },
  {
   "cell_type": "markdown",
   "id": "9715774e",
   "metadata": {},
   "source": [
    "(x(𝑖), y(𝑖)) denotes the 𝑖𝑡ℎ training example. \n",
    "(x(0), y(0)) is (2.0, 300.0) and (x(1), y(1)) is (4.0, 600.0).\n",
    "\n"
   ]
  },
  {
   "cell_type": "markdown",
   "id": "74317de1",
   "metadata": {},
   "source": [
    "## Plot the data"
   ]
  },
  {
   "cell_type": "code",
   "execution_count": 5,
   "id": "51d7b5c5",
   "metadata": {},
   "outputs": [
    {
     "data": {
      "image/png": "[encoded data removed]",
      "text/plain": [
       "<Figure size 432x288 with 1 Axes>"
      ]
     },
     "metadata": {
      "needs_background": "light"
     },
     "output_type": "display_data"
    }
   ],
   "source": [
    "plt.scatter(x, y, marker='x', c='b')\n",
    "# y-axis label\n",
    "plt.ylabel('Target')\n",
    "# x-axis label\n",
    "plt.xlabel('Input')\n",
    "plt.show()\n",
    "\n"
   ]
  },
  {
   "cell_type": "markdown",
   "id": "0ff4ce2b",
   "metadata": {},
   "source": [
    "Equation of a line\n",
    "$\\large 𝑓(𝑥) = 𝑤.𝑥^{(𝑖)}+𝑏$\n",
    "\n"
   ]
  },
  {
   "cell_type": "code",
   "execution_count": 6,
   "id": "d953ea38",
   "metadata": {},
   "outputs": [],
   "source": [
    "#Lets set an arbitrary value for w and b and predict using the linear regression model\n",
    "w = 100\n",
    "b = 10\n",
    "\n",
    "# Using equation of line shown above\n",
    "f_x = np.dot(w,x)+b"
   ]
  },
  {
   "cell_type": "code",
   "execution_count": 7,
   "id": "49e945e1",
   "metadata": {},
   "outputs": [
    {
     "data": {
      "image/png": "[encoded data removed]",
      "text/plain": [
       "<Figure size 432x288 with 1 Axes>"
      ]
     },
     "metadata": {
      "needs_background": "light"
     },
     "output_type": "display_data"
    }
   ],
   "source": [
    "# Plot our model prediction\n",
    "plt.plot(x, f_x, c='g',label='Prediction')\n",
    "# Plot the data points\n",
    "plt.scatter(x, y, marker='o', c='b',label='Actual Values')\n",
    "# y-axis label\n",
    "plt.ylabel('Target')\n",
    "# x-axis label\n",
    "plt.xlabel('Input')\n",
    "plt.legend()\n",
    "plt.show()\n"
   ]
  },
  {
   "cell_type": "markdown",
   "id": "96efa8ab",
   "metadata": {},
   "source": [
    "What value of w and b will make the line fit the points exactly?\n",
    "\n",
    "Experiment with different values of w and b.\n",
    "Try w = 150, b=0\n",
    "\n",
    "Prediction\n",
    "With this of w and b, make a prediction. If input = 1.5. What is the prediction of output?"
   ]
  },
  {
   "cell_type": "code",
   "execution_count": 8,
   "id": "b361c8e6",
   "metadata": {},
   "outputs": [
    {
     "name": "stdout",
     "output_type": "stream",
     "text": [
      "555.0\n"
     ]
    }
   ],
   "source": [
    "w = 150                        \n",
    "b = 0    \n",
    "x_i = 3.7\n",
    "output = w * x_i + b    \n",
    "\n",
    "print(output)"
   ]
  },
  {
   "cell_type": "markdown",
   "id": "83b5afd3",
   "metadata": {},
   "source": [
    "## implement linear regression with one variable but many samples"
   ]
  },
  {
   "cell_type": "code",
   "execution_count": 9,
   "id": "6b3a4b3f",
   "metadata": {},
   "outputs": [
    {
     "data": {
      "text/plain": [
       "<matplotlib.collections.PathCollection at 0x1f843acc790>"
      ]
     },
     "execution_count": 9,
     "metadata": {},
     "output_type": "execute_result"
    },
    {
     "data": {
      "image/png": "[encoded data removed]",
      "text/plain": [
       "<Figure size 432x288 with 1 Axes>"
      ]
     },
     "metadata": {
      "needs_background": "light"
     },
     "output_type": "display_data"
    }
   ],
   "source": [
    "#Create your own dataset of input, output values\n",
    "\n",
    "#create 1000 samples. This will your input, x\n",
    "input = np.random.normal(3.0, 1.0, 1000)\n",
    "\n",
    "#Using the input values, create output values\n",
    "output = 100 - (input + np.random.normal(0, 0.1, 1000)) * 3\n",
    "\n",
    "scatter(input, output)\n"
   ]
  },
  {
   "cell_type": "markdown",
   "id": "9e0332b6",
   "metadata": {},
   "source": [
    "## Lets use a library to fit a line to this data"
   ]
  },
  {
   "cell_type": "code",
   "execution_count": 10,
   "id": "f8f172c6",
   "metadata": {},
   "outputs": [],
   "source": [
    "slope, intercept, r_value, p_value, std_err = stats.linregress(input, output)"
   ]
  },
  {
   "cell_type": "code",
   "execution_count": 11,
   "id": "d8cb585c",
   "metadata": {},
   "outputs": [
    {
     "data": {
      "text/plain": [
       "0.9890762447560798"
      ]
     },
     "execution_count": 11,
     "metadata": {},
     "output_type": "execute_result"
    }
   ],
   "source": [
    "r_value ** 2"
   ]
  },
  {
   "cell_type": "markdown",
   "id": "624bf3bf",
   "metadata": {},
   "source": [
    "## Use the equation of the line to make predictions"
   ]
  },
  {
   "cell_type": "code",
   "execution_count": 12,
   "id": "554ff6e4",
   "metadata": {},
   "outputs": [],
   "source": [
    "# Use the slope and intercept of the line obtained from above.\n",
    "# Construct a line\n",
    "# For any value of input, the point on the line is our predicted value"
   ]
  },
  {
   "cell_type": "code",
   "execution_count": 13,
   "id": "75ef50a5",
   "metadata": {},
   "outputs": [
    {
     "data": {
      "image/png": "[encoded data removed]",
      "text/plain": [
       "<Figure size 432x288 with 1 Axes>"
      ]
     },
     "metadata": {
      "needs_background": "light"
     },
     "output_type": "display_data"
    }
   ],
   "source": [
    "def predict(x):\n",
    "    return slope * x + intercept\n",
    "\n",
    "fitLine = predict(input) #Prediction for each value of input\n",
    "\n",
    "plt.scatter(input, output)\n",
    "plt.plot(input, fitLine, c='r')\n",
    "plt.show()"
   ]
  },
  {
   "cell_type": "markdown",
   "id": "b0697205",
   "metadata": {},
   "source": [
    "Try increasing the random variation in the test data, and see what effect it has on the r-squared error value"
   ]
  },
  {
   "cell_type": "markdown",
   "id": "0e728bda",
   "metadata": {},
   "source": [
    "## Gradient Descent, Squared Error Loss function"
   ]
  },
  {
   "cell_type": "markdown",
   "id": "765ea33c",
   "metadata": {},
   "source": [
    "Simple Equation of a line:\n",
    "\n",
    "$\\large f(x) = wx +b$\n",
    "\n",
    "When we have multiple features:\n",
    "\n",
    " $\\large f(\\vec {x} ) = w_{1}x_{1} + w_{2}x_{2} +...+ w_{n}x_{n} + b$\n",
    " \n",
    "For each sample $(i)$\n",
    "\n",
    " $\\large f(\\vec{x}^{(i)}) = w_{1}x_{1}^{(i)} + w_{2}x_{2}^{(i)} +...+ w_{n}x_{n}^{(i)} + b$\n",
    " \n",
    "To make it more descriptive\n",
    "\n",
    " $\\large f_{w,b}(\\vec{x}^{(i)}) = w_{1}x_{1}^{(i)} + w_{2}x_{2}^{(i)} +...+ w_{n}x_{n}^{(i)} + b $\n",
    " \n",
    " To write it in shorthand notation\n",
    "\n",
    " $\\large f_{w,b}(\\vec{x}^{(i)}) = \\sum_{j=1}^n \\lgroup w_{j}.x_j^{(i)}+b\\rgroup $\n",
    " \n",
    " Cost is the measure of error between predicted and actual values\n",
    " \n",
    " $\\large J = \\frac{1}{2m} \\sum_{i=1}^m \\lgroup f_{w,b}(\\vec{x}^{(i)}) - y^{(i)}\\rgroup^{2}$\n",
    " \n",
    " We use a Learning Algorithm to update the values for the weights and bias until the cost becomes minimal\n",
    " \n",
    " Lets look at Gradient Descent:\n",
    "\n",
    "$\\large w_1 = w_1 - \\alpha$ .$\\frac{\\partial J}{\\partial w_{1}}$\n",
    "\n",
    "where \n",
    "$\\large \\frac{\\partial J}{\\partial w_{1}} =\\frac{1}{m} \\sum_{i=1}^m \\lgroup w_{1}.x_1^{(i)} + w_{2}.x_2^{(i)}+...+ w_{n}.x_n^{(i)} +b-y^{(i)}\\rgroup.x_1^{(i)}$\n",
    "\n",
    "$\\large \\frac{\\partial J}{\\partial w_{1}} =\\frac{1}{m} \\sum_{i=1}^m \\lgroup\\sum_{j=1}^n \\lgroup w_{j}.x_j^{(i)}+b\\rgroup-y^{(i)}\\rgroup.x_1^{(i)}$\n",
    "\n",
    "$\\large \\frac{\\partial J}{\\partial w_{1}} = \\frac {1} {m} \\sum_{i=1}^m (f_{w,b}(\\vec{x}^{(i)}) - y^{(i)}).x_1^{(i)}$\n",
    "\n",
    "\n",
    "Likewise, when we are evaluating $\\frac{\\partial J}{\\partial w_{2}}$\n",
    "\n",
    "$\\large \\frac{\\partial J}{\\partial w_{2}} =\\frac{1}{m} \\sum_{i=1}^m \\lgroup\\sum_{j=1}^n \\lgroup w_{j}.x_j^{(i)}+b\\rgroup-y^{(i)}\\rgroup.x_2^{(i)}$\n",
    "\n",
    "$\\large \\frac{\\partial J}{\\partial w_{2}} = \\frac {1} {m} \\sum_{i=1}^m (f_{w,b}(\\vec{x}^{(i)}) - y^{(i)}).x_2^{(i)}$\n",
    "\n",
    "Where \n",
    " $\\large \\sum_{j=1}^n \\lgroup w_{j}.x_j^{(i)}+b\\rgroup = f_{w,b}(\\vec{x}^{(i)})$\n",
    "\n",
    "So, in the general case $\\large \\frac{\\partial J}{\\partial w_{n}} = \\frac {1} {m} \\sum_{i=1}^m (f_{w,b}(\\vec{x}^{(i)}) - y^{(i)}).x_n^{(i)}$"
   ]
  },
  {
   "cell_type": "code",
   "execution_count": 14,
   "id": "d4aabfbf",
   "metadata": {},
   "outputs": [],
   "source": [
    "#Example done during lecture. Please check lecture video to understand how to provide the input and output \n",
    "# a. when it is a single input feature and many samples\n",
    "# b. when it is multiple input features and many samples"
   ]
  },
  {
   "cell_type": "code",
   "execution_count": 21,
   "id": "eccb43fc",
   "metadata": {},
   "outputs": [],
   "source": [
    "#[0,2,3] -> 6 1st sample\n",
    "#[1,2,4] -> 8 2nd sample\n",
    "#[3,4,7] -> 15 3rd sample\n",
    "\n",
    "#x1 x2 x3   ouptut\n",
    "#0  2  3 ->   5     sample 1\n",
    "#1  2  4 ->   6     sample 2\n",
    "#3  2  5 ->   2     sample 3"
   ]
  }
 ],
 "metadata": {
  "kernelspec": {
   "display_name": "Python 3 (ipykernel)",
   "language": "python",
   "name": "python3"
  },
  "language_info": {
   "codemirror_mode": {
    "name": "ipython",
    "version": 3
   },
   "file_extension": ".py",
   "mimetype": "text/x-python",
   "name": "python",
   "nbconvert_exporter": "python",
   "pygments_lexer": "ipython3",
   "version": "3.9.7"
  }
 },
 "nbformat": 4,
 "nbformat_minor": 5
}
